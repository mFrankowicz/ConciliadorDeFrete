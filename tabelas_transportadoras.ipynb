{
 "cells": [
  {
   "cell_type": "code",
   "execution_count": 1,
   "metadata": {},
   "outputs": [],
   "source": [
    "import pandas as pd"
   ]
  },
  {
   "cell_type": "code",
   "execution_count": 2,
   "metadata": {},
   "outputs": [],
   "source": [
    "dominalog = pd.read_csv('tabelas/dominalog.csv', sep=';', skiprows=1, encoding='cp1252')\n",
    "nova_era = pd.read_csv('tabelas/nova_era.csv', sep=';', skiprows=1, encoding='cp1252')\n",
    "pajucara = pd.read_csv('tabelas/pajucara.csv', sep=';', skiprows=1, encoding='cp1252')\n",
    "stl = pd.read_csv('tabelas/stl.csv', sep=';', skiprows=1, encoding='cp1252')\n",
    "transbarbosa = pd.read_csv('tabelas/transbarbosa.csv', sep=';', skiprows=1, encoding='cp1252')\n",
    "vhz = pd.read_csv('tabelas/vhz.csv', sep=';', skiprows=1, encoding='cp1252')\n",
    "jamef = pd.read_excel('tabelas/jamef.xlsx')\n",
    "mooveelog = pd.read_excel('tabelas/moovelog.xlsx')"
   ]
  },
  {
   "cell_type": "code",
   "execution_count": 3,
   "metadata": {},
   "outputs": [],
   "source": [
    "dominalog = dominalog[['NUMERO CT-E', 'DATA EMISSAO', 'CLIENTE REMETENTE', 'CNPJ REMETENTE', 'CEP REMETENTE', 'CLIENTE DESTINATARIO', 'CNPJ DESTINATARIO', 'CEP DESTINATARIO', 'ENTREGA DIFICIL', 'NOTA FISCAL', 'VAL MERCADORIA', 'PESO CALC', 'VAL RECEBER']]\n",
    "nova_era = nova_era[['NUMERO CT-E', 'DATA EMISSAO', 'CLIENTE REMETENTE', 'CNPJ REMETENTE', 'CEP REMETENTE', 'CLIENTE DESTINATARIO', 'CNPJ DESTINATARIO', 'CEP DESTINATARIO', 'ENTREGA DIFICIL', 'NOTA FISCAL', 'VAL MERCADORIA', 'PESO CALC', 'VAL RECEBER']]\n",
    "pajucara = pajucara[['NUMERO CT-E', 'DATA EMISSAO', 'CLIENTE REMETENTE', 'CNPJ REMETENTE', 'CEP REMETENTE', 'CLIENTE DESTINATARIO', 'CNPJ DESTINATARIO', 'CEP DESTINATARIO', 'ENTREGA DIFICIL', 'NOTA FISCAL', 'VAL MERCADORIA', 'PESO CALC', 'VAL RECEBER']]\n",
    "stl = stl[['NUMERO CT-E', 'DATA EMISSAO', 'CLIENTE REMETENTE', 'CNPJ REMETENTE', 'CEP REMETENTE', 'CLIENTE DESTINATARIO', 'CNPJ DESTINATARIO', 'CEP DESTINATARIO', 'ENTREGA DIFICIL', 'NOTA FISCAL', 'VAL MERCADORIA', 'PESO CALC', 'VAL RECEBER']]\n",
    "transbarbosa = transbarbosa[['NUMERO CT-E', 'DATA EMISSAO', 'CLIENTE REMETENTE', 'CNPJ REMETENTE', 'CEP REMETENTE', 'CLIENTE DESTINATARIO', 'CNPJ DESTINATARIO', 'CEP DESTINATARIO', 'ENTREGA DIFICIL', 'NOTA FISCAL', 'VAL MERCADORIA', 'PESO CALC', 'VAL RECEBER']]\n",
    "vhz = vhz[['NUMERO CT-E', 'DATA EMISSAO', 'CLIENTE REMETENTE', 'CNPJ REMETENTE', 'CEP REMETENTE', 'CLIENTE DESTINATARIO', 'CNPJ DESTINATARIO', 'CEP DESTINATARIO', 'ENTREGA DIFICIL', 'NOTA FISCAL', 'VAL MERCADORIA', 'PESO CALC', 'VAL RECEBER']]\n",
    "jamef = jamef[['CTe', 'DATA EMISSAO', 'NOME REMETENTE', 'REMETENTE','NOME DESTINATARIO',  'DESTINATARIO', \"NF'S\", 'VALOR MERCADORIA', 'PESO', 'VALOR FRETE']]\n",
    "mooveelog = mooveelog[['Número CTe', 'Data de Emissão do CTe', 'Número Nota Fiscal', 'Valor Nota Fscal', 'Peso Cobrado', 'Frete Total']]"
   ]
  },
  {
   "cell_type": "code",
   "execution_count": 23,
   "metadata": {},
   "outputs": [
    {
     "name": "stdout",
     "output_type": "stream",
     "text": [
      "<class 'pandas.core.frame.DataFrame'>\n",
      "RangeIndex: 119 entries, 0 to 118\n",
      "Data columns (total 13 columns):\n",
      " #   Column                Non-Null Count  Dtype  \n",
      "---  ------                --------------  -----  \n",
      " 0   NUMERO CT-E           118 non-null    object \n",
      " 1   DATA EMISSAO          118 non-null    object \n",
      " 2   CLIENTE REMETENTE     118 non-null    object \n",
      " 3   CNPJ REMETENTE        118 non-null    float64\n",
      " 4   CEP REMETENTE         118 non-null    float64\n",
      " 5   CLIENTE DESTINATARIO  118 non-null    object \n",
      " 6   CNPJ DESTINATARIO     118 non-null    float64\n",
      " 7   CEP DESTINATARIO      118 non-null    float64\n",
      " 8   ENTREGA DIFICIL       118 non-null    object \n",
      " 9   NOTA FISCAL           118 non-null    float64\n",
      " 10  VAL MERCADORIA        118 non-null    object \n",
      " 11  PESO CALC             118 non-null    object \n",
      " 12  VAL RECEBER           118 non-null    object \n",
      "dtypes: float64(5), object(8)\n",
      "memory usage: 12.2+ KB\n"
     ]
    }
   ],
   "source": [
    "dominalog.info()"
   ]
  },
  {
   "cell_type": "code",
   "execution_count": 4,
   "metadata": {},
   "outputs": [],
   "source": [
    "mooveelog['Número CTe'] = mooveelog['Número CTe'].str.replace(\"'\", '')\n",
    "mooveelog['Número Nota Fiscal'] = mooveelog['Número Nota Fiscal'].str.replace(\"'\", '')"
   ]
  },
  {
   "cell_type": "code",
   "execution_count": 7,
   "metadata": {},
   "outputs": [],
   "source": [
    "conciliacoes = pd.read_parquet('Conciliacoes.parquet')\n",
    "pedidos = pd.read_parquet('Pedidos Gerados.parquet')"
   ]
  },
  {
   "cell_type": "code",
   "execution_count": 32,
   "metadata": {},
   "outputs": [
    {
     "data": {
      "text/html": [
       "<div>\n",
       "<style scoped>\n",
       "    .dataframe tbody tr th:only-of-type {\n",
       "        vertical-align: middle;\n",
       "    }\n",
       "\n",
       "    .dataframe tbody tr th {\n",
       "        vertical-align: top;\n",
       "    }\n",
       "\n",
       "    .dataframe thead th {\n",
       "        text-align: right;\n",
       "    }\n",
       "</style>\n",
       "<table border=\"1\" class=\"dataframe\">\n",
       "  <thead>\n",
       "    <tr style=\"text-align: right;\">\n",
       "      <th></th>\n",
       "      <th>NUMERO CT-E</th>\n",
       "      <th>DATA EMISSAO</th>\n",
       "      <th>CLIENTE REMETENTE</th>\n",
       "      <th>CNPJ REMETENTE</th>\n",
       "      <th>CEP REMETENTE</th>\n",
       "      <th>CLIENTE DESTINATARIO</th>\n",
       "      <th>CNPJ DESTINATARIO</th>\n",
       "      <th>CEP DESTINATARIO</th>\n",
       "      <th>ENTREGA DIFICIL</th>\n",
       "      <th>NOTA FISCAL</th>\n",
       "      <th>VAL MERCADORIA</th>\n",
       "      <th>PESO CALC</th>\n",
       "      <th>VAL RECEBER</th>\n",
       "    </tr>\n",
       "  </thead>\n",
       "  <tbody>\n",
       "    <tr>\n",
       "      <th>0</th>\n",
       "      <td>002001983785</td>\n",
       "      <td>16/08/2023</td>\n",
       "      <td>CAROLINA BABY MOVEIS INFANTIS IND. E COM. LTDA</td>\n",
       "      <td>8.642006e+13</td>\n",
       "      <td>36500000.0</td>\n",
       "      <td>JOSUE MACHADO BARBOSA - 140100</td>\n",
       "      <td>3.419226e+09</td>\n",
       "      <td>44190000.0</td>\n",
       "      <td>N</td>\n",
       "      <td>98903.0</td>\n",
       "      <td>475,12</td>\n",
       "      <td>30,520</td>\n",
       "      <td>153,57</td>\n",
       "    </tr>\n",
       "    <tr>\n",
       "      <th>1</th>\n",
       "      <td>002001983734</td>\n",
       "      <td>16/08/2023</td>\n",
       "      <td>CAROLINA BABY MOVEIS INFANTIS IND. E COM. LTDA</td>\n",
       "      <td>8.642006e+13</td>\n",
       "      <td>36500000.0</td>\n",
       "      <td>PABLO ANGELO DA SILVA - 140253</td>\n",
       "      <td>1.102966e+09</td>\n",
       "      <td>46900000.0</td>\n",
       "      <td>N</td>\n",
       "      <td>98904.0</td>\n",
       "      <td>483,91</td>\n",
       "      <td>30,520</td>\n",
       "      <td>153,63</td>\n",
       "    </tr>\n",
       "    <tr>\n",
       "      <th>2</th>\n",
       "      <td>002001983784</td>\n",
       "      <td>16/08/2023</td>\n",
       "      <td>CAROLINA BABY MOVEIS INFANTIS IND. E COM. LTDA</td>\n",
       "      <td>8.642006e+13</td>\n",
       "      <td>36500000.0</td>\n",
       "      <td>JOELMA ISIDORIO DE LIMA - 140282</td>\n",
       "      <td>3.468475e+09</td>\n",
       "      <td>55560000.0</td>\n",
       "      <td>N</td>\n",
       "      <td>98905.0</td>\n",
       "      <td>539,91</td>\n",
       "      <td>30,520</td>\n",
       "      <td>186,05</td>\n",
       "    </tr>\n",
       "    <tr>\n",
       "      <th>3</th>\n",
       "      <td>002001983733</td>\n",
       "      <td>16/08/2023</td>\n",
       "      <td>CAROLINA BABY MOVEIS INFANTIS IND. E COM. LTDA</td>\n",
       "      <td>8.642006e+13</td>\n",
       "      <td>36500000.0</td>\n",
       "      <td>JOSIMARA SANTANA DE JESUS COSTA - 138977</td>\n",
       "      <td>8.627473e+10</td>\n",
       "      <td>44054112.0</td>\n",
       "      <td>N</td>\n",
       "      <td>98906.0</td>\n",
       "      <td>431,12</td>\n",
       "      <td>30,520</td>\n",
       "      <td>125,24</td>\n",
       "    </tr>\n",
       "    <tr>\n",
       "      <th>4</th>\n",
       "      <td>002001983783</td>\n",
       "      <td>16/08/2023</td>\n",
       "      <td>CAROLINA BABY MOVEIS INFANTIS IND. E COM. LTDA</td>\n",
       "      <td>8.642006e+13</td>\n",
       "      <td>36500000.0</td>\n",
       "      <td>MARQUILENE MARIA PEREIRA DE SOUZA - 140423</td>\n",
       "      <td>6.491414e+09</td>\n",
       "      <td>55192608.0</td>\n",
       "      <td>N</td>\n",
       "      <td>98907.0</td>\n",
       "      <td>599,90</td>\n",
       "      <td>30,520</td>\n",
       "      <td>150,50</td>\n",
       "    </tr>\n",
       "  </tbody>\n",
       "</table>\n",
       "</div>"
      ],
      "text/plain": [
       "     NUMERO CT-E DATA EMISSAO                               CLIENTE REMETENTE  \\\n",
       "0   002001983785   16/08/2023  CAROLINA BABY MOVEIS INFANTIS IND. E COM. LTDA   \n",
       "1   002001983734   16/08/2023  CAROLINA BABY MOVEIS INFANTIS IND. E COM. LTDA   \n",
       "2   002001983784   16/08/2023  CAROLINA BABY MOVEIS INFANTIS IND. E COM. LTDA   \n",
       "3   002001983733   16/08/2023  CAROLINA BABY MOVEIS INFANTIS IND. E COM. LTDA   \n",
       "4   002001983783   16/08/2023  CAROLINA BABY MOVEIS INFANTIS IND. E COM. LTDA   \n",
       "\n",
       "   CNPJ REMETENTE  CEP REMETENTE                        CLIENTE DESTINATARIO  \\\n",
       "0    8.642006e+13     36500000.0              JOSUE MACHADO BARBOSA - 140100   \n",
       "1    8.642006e+13     36500000.0              PABLO ANGELO DA SILVA - 140253   \n",
       "2    8.642006e+13     36500000.0            JOELMA ISIDORIO DE LIMA - 140282   \n",
       "3    8.642006e+13     36500000.0    JOSIMARA SANTANA DE JESUS COSTA - 138977   \n",
       "4    8.642006e+13     36500000.0  MARQUILENE MARIA PEREIRA DE SOUZA - 140423   \n",
       "\n",
       "   CNPJ DESTINATARIO  CEP DESTINATARIO ENTREGA DIFICIL  NOTA FISCAL  \\\n",
       "0       3.419226e+09        44190000.0               N      98903.0   \n",
       "1       1.102966e+09        46900000.0               N      98904.0   \n",
       "2       3.468475e+09        55560000.0               N      98905.0   \n",
       "3       8.627473e+10        44054112.0               N      98906.0   \n",
       "4       6.491414e+09        55192608.0               N      98907.0   \n",
       "\n",
       "   VAL MERCADORIA   PESO CALC VAL RECEBER  \n",
       "0          475,12      30,520      153,57  \n",
       "1          483,91      30,520      153,63  \n",
       "2          539,91      30,520      186,05  \n",
       "3          431,12      30,520      125,24  \n",
       "4          599,90      30,520      150,50  "
      ]
     },
     "execution_count": 32,
     "metadata": {},
     "output_type": "execute_result"
    }
   ],
   "source": [
    "conc = pd.merge(dominalog, conciliacoes, how='left', left_on='NOTA FISCAL', right_on='nf')\n",
    "match1 = conc[conc['nf'].notnull()]\n",
    "match2 = conc[conc['nf'].isnull()]\n",
    "match2 = match2.drop(columns=['nf', 'cte', 'nf_value', 'status', 'tms_value', 'cte_value'])\n",
    "match2.head()"
   ]
  }
 ],
 "metadata": {
  "kernelspec": {
   "display_name": "Python 3",
   "language": "python",
   "name": "python3"
  },
  "language_info": {
   "codemirror_mode": {
    "name": "ipython",
    "version": 3
   },
   "file_extension": ".py",
   "mimetype": "text/x-python",
   "name": "python",
   "nbconvert_exporter": "python",
   "pygments_lexer": "ipython3",
   "version": "3.11.0"
  },
  "orig_nbformat": 4,
  "vscode": {
   "interpreter": {
    "hash": "c261aea317cc0286b3b3261fbba9abdec21eaa57589985bb7a274bf54d6cc0a7"
   }
  }
 },
 "nbformat": 4,
 "nbformat_minor": 2
}
